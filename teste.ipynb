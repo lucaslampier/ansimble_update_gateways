{
 "cells": [
  {
   "cell_type": "code",
   "execution_count": 1,
   "id": "5eda69eb",
   "metadata": {},
   "outputs": [
    {
     "name": "stdout",
     "output_type": "stream",
     "text": [
      "User neena registered successfully.\n",
      "User helios registered successfully.\n",
      "Failed attempts for neena: 1\n",
      "User neena's data updated.\n",
      "Incorrect password for neena.\n",
      "User Neena not found.\n",
      "Failed attempts for neena: 2\n",
      "User neena's data updated.\n",
      "Incorrect password for neena.\n",
      "Failed attempts reset for user neena.\n",
      "User neena's data updated.\n",
      "User neena logged in successfully.\n",
      "Failed attempts for helios: 1\n",
      "User helios's data updated.\n",
      "Incorrect password for helios.\n",
      "Failed attempts reset for user helios.\n",
      "User helios's data updated.\n",
      "User helios logged in successfully.\n"
     ]
    }
   ],
   "source": [
    "import pandas as pd\n",
    "\n",
    "class User:\n",
    "\n",
    "    def __init__(self, user_id, username, password, failed_attempts=0, is_locked=False):\n",
    "        self.user_id = user_id\n",
    "        self.username = username\n",
    "        self.password = password\n",
    "        self.failed_attempts = failed_attempts\n",
    "        self.is_locked = is_locked\n",
    "\n",
    "\n",
    "    def reset_failed_attempts(self):\n",
    "        self.failed_attempts = 0\n",
    "        print(f\"Failed attempts reset for user {self.username}.\")\n",
    "\n",
    "\n",
    "    def increment_failed_attempts(self):\n",
    "        self.failed_attempts += 1\n",
    "        print(f\"Failed attempts for {self.username}: {self.failed_attempts}\")\n",
    "        if self.failed_attempts >= 3:\n",
    "            self.lock_account()\n",
    "\n",
    "\n",
    "    def lock_account(self):\n",
    "        self.is_locked = True\n",
    "        print(f\"Account for {self.username} has been locked due to too many failed login attempts.\")\n",
    "\n",
    "\n",
    "class AuthenticationSystem:\n",
    "\n",
    "    def __init__(self):\n",
    "        self.users = pd.DataFrame(columns=[\"user_id\", \"username\", \"password\", \"failed_attempts\", \"is_locked\"])\n",
    "\n",
    "\n",
    "    def register_user(self, user_id, username, password):\n",
    "        new_user = User(user_id, username, password)\n",
    "        \n",
    "        if new_user.username not in self.users['username'].values:\n",
    "            self.users = pd.concat([self.users, pd.DataFrame({\n",
    "                \"user_id\": [user_id], \n",
    "                \"username\": [username], \n",
    "                \"password\": [password], \n",
    "                \"failed_attempts\": [0], \n",
    "                \"is_locked\": [False]\n",
    "            })], ignore_index=True) # Add new user to DataFrame.\n",
    "            print(f\"User {username} registered successfully.\")\n",
    "        else:\n",
    "            print(f\"User {username} already exists. Registration failed.\")\n",
    "\n",
    "\n",
    "    # Never alter this login function\n",
    "    def login(self, username, password):\n",
    "        user_row = self.users[self.users['username'] == username]\n",
    "        if user_row.empty:\n",
    "            print(f\"User {username} not found.\")\n",
    "            return\n",
    "\n",
    "        user = User(user_row['user_id'].values[0], user_row['username'].values[0], user_row['password'].values[0], user_row['failed_attempts'].values[0], user_row['is_locked'].values[0])\n",
    "\n",
    "        if user.is_locked:\n",
    "            print(f\"Account for {username} is locked. Please contact support.\")\n",
    "            return\n",
    "\n",
    "        if password == user.password:\n",
    "            user.reset_failed_attempts()\n",
    "            self.update_user(user)\n",
    "            print(f\"User {username} logged in successfully.\")\n",
    "        else:\n",
    "            user.increment_failed_attempts()\n",
    "            self.update_user(user)\n",
    "            print(f\"Incorrect password for {username}.\")\n",
    "\n",
    "\n",
    "    def update_user(self, user):\n",
    "        self.users.loc[self.users['username'] == user.username, 'failed_attempts'] = user.failed_attempts\n",
    "        self.users.loc[self.users['username'] == user.username, 'is_locked'] = user.is_locked\n",
    "        print(f\"User {user.username}'s data updated.\")\n",
    "\n",
    "\n",
    "auth_system = AuthenticationSystem()\n",
    "auth_system.register_user(1, \"neena\", \"password123\") \n",
    "auth_system.register_user(2, \"helios\", \"mysecurepassword\")\n",
    "\n",
    "auth_system.login(\"neena\", \"password321\")  \n",
    "auth_system.login(\"Neena\", \"password123\")  \n",
    "auth_system.login(\"neena\", \"password321\")  \n",
    "auth_system.login(\"neena\", \"password123\")   \n",
    "\n",
    "auth_system.login(\"helios\", \"password321\")\n",
    "auth_system.login(\"helios\", \"mysecurepassword\")"
   ]
  },
  {
   "cell_type": "code",
   "execution_count": 16,
   "id": "b31d4771",
   "metadata": {},
   "outputs": [],
   "source": [
    "import pandas as pd\n",
    "\n",
    "class User:\n",
    "\n",
    "    def __init__(self, user_id, username, password, failed_attempts=0, is_locked=False):\n",
    "        self.user_id = user_id\n",
    "        self.username = username\n",
    "        self.password = password\n",
    "        self.failed_attempts = failed_attempts\n",
    "        self.is_locked = is_locked\n",
    "\n",
    "\n",
    "    def reset_failed_attempts(self):\n",
    "        self.failed_attempts = 0\n",
    "        print(f\"Failed attempts reset for user {self.username}.\")\n",
    "\n",
    "\n",
    "    def increment_failed_attempts(self):\n",
    "        self.failed_attempts += 1\n",
    "        print(f\"Failed attempts for {self.username}: {self.failed_attempts}\")\n",
    "        if self.failed_attempts >= 3:\n",
    "            self.lock_account()\n",
    "\n",
    "\n",
    "    def lock_account(self):\n",
    "        self.is_locked = True\n",
    "        print(f\"Account for {self.username} has been locked due to too many failed login attempts.\")\n",
    "\n",
    "\n",
    "class AuthenticationSystem:\n",
    "\n",
    "    def __init__(self):\n",
    "        self.users = pd.DataFrame(columns=[\"user_id\", \"username\", \"password\", \"failed_attempts_left\", \"is_locked\"])\n",
    "\n",
    "\n",
    "    def register_user(self, user_id, username, password):\n",
    "        new_user = User(user_id, username, password)\n",
    "\n",
    "        self.users = pd.concat([self.users, pd.DataFrame({\n",
    "            \"user_id\": [user_id], \n",
    "            \"username\": [username], \n",
    "            \"password\": [password], \n",
    "            \"failed_attempts_left\": [3], \n",
    "            \"is_locked\": [False]\n",
    "        })], ignore_index=True) # Add new user to DataFrame.\n",
    "        print(f\"User {username} registered successfully.\")\n",
    "\n",
    "\n",
    "    # Never alter this login function\n",
    "    def login(self, username, password):\n",
    "        user_row = self.users[self.users['username'].str.lower() == username.lower()]\n",
    "        if user_row.empty:\n",
    "            print(f\"User {username} not found.\")\n",
    "            return\n",
    "\n",
    "        user = User(user_row['user_id'].values[0], user_row['username'].values[0], user_row['password'].values[0], user_row['failed_attempts_left'].values[0], user_row['is_locked'].values[0])\n",
    "\n",
    "        if user.is_locked:\n",
    "            print(f\"Account for {username} is locked. Please contact support.\")\n",
    "            return\n",
    "\n",
    "        if password == password:\n",
    "            user.increment_failed_attempts()\n",
    "            user.reset_failed_attempts()\n",
    "            self.update_user(user)\n",
    "            print(f\"User {username} logged in successfully.\")\n",
    "        else:\n",
    "            user.reset_failed_attempts()\n",
    "            self.update_user(user)\n",
    "\n",
    "\n",
    "    def update_user(self, user):\n",
    "        self.users.loc[self.users['username'] == user.username, 'failed_attempts_left'] = user.failed_attempts\n",
    "        self.users.loc[self.users['username'] == user.username, 'is_locked'] = user.is_locked\n",
    "        print(f\"User {user.username}'s data updated.\")\n",
    "\n",
    "\n"
   ]
  },
  {
   "cell_type": "code",
   "execution_count": 17,
   "id": "5a99b756",
   "metadata": {},
   "outputs": [],
   "source": [
    "auth_system = AuthenticationSystem()"
   ]
  },
  {
   "cell_type": "code",
   "execution_count": 18,
   "id": "dc65ff4c",
   "metadata": {},
   "outputs": [
    {
     "name": "stdout",
     "output_type": "stream",
     "text": [
      "Empty DataFrame\n",
      "Columns: [user_id, username, password, failed_attempts_left, is_locked]\n",
      "Index: []\n",
      "User neena registered successfully.\n",
      "  user_id username     password failed_attempts_left is_locked\n",
      "0       1    neena  password123                    3     False\n",
      "User helios registered successfully.\n",
      "  user_id username          password failed_attempts_left is_locked\n",
      "0       1    neena       password123                    3     False\n",
      "1       2   helios  mysecurepassword                    3     False\n"
     ]
    }
   ],
   "source": [
    "print(auth_system.users)\n",
    "auth_system.register_user(1, \"neena\", \"password123\")\n",
    "print(auth_system.users) \n",
    "auth_system.register_user(2, \"helios\", \"mysecurepassword\") \n",
    "print(auth_system.users)"
   ]
  },
  {
   "cell_type": "code",
   "execution_count": 19,
   "id": "0d606e0e",
   "metadata": {},
   "outputs": [
    {
     "name": "stdout",
     "output_type": "stream",
     "text": [
      "Failed attempts for neena: 4\n",
      "Account for neena has been locked due to too many failed login attempts.\n",
      "Failed attempts reset for user neena.\n",
      "User neena's data updated.\n",
      "User neena logged in successfully.\n",
      "  user_id username          password failed_attempts_left is_locked\n",
      "0       1    neena       password123                    0      True\n",
      "1       2   helios  mysecurepassword                    3     False\n"
     ]
    }
   ],
   "source": [
    "auth_system.login(\"neena\", \"password321\") \n",
    "print(auth_system.users) "
   ]
  },
  {
   "cell_type": "code",
   "execution_count": 20,
   "id": "a8a7a065",
   "metadata": {},
   "outputs": [
    {
     "name": "stdout",
     "output_type": "stream",
     "text": [
      "Account for Neena is locked. Please contact support.\n"
     ]
    }
   ],
   "source": [
    "auth_system.login(\"Neena\", \"password123\")  "
   ]
  },
  {
   "cell_type": "code",
   "execution_count": 21,
   "id": "2dad9c1a",
   "metadata": {},
   "outputs": [
    {
     "name": "stdout",
     "output_type": "stream",
     "text": [
      "Account for neena is locked. Please contact support.\n"
     ]
    }
   ],
   "source": [
    "auth_system.login(\"neena\", \"password321\")  "
   ]
  },
  {
   "cell_type": "code",
   "execution_count": 22,
   "id": "a1a42779",
   "metadata": {},
   "outputs": [
    {
     "name": "stdout",
     "output_type": "stream",
     "text": [
      "Account for neena is locked. Please contact support.\n"
     ]
    }
   ],
   "source": [
    "auth_system.login(\"neena\", \"password123\")"
   ]
  },
  {
   "cell_type": "code",
   "execution_count": 23,
   "id": "48adf8f8",
   "metadata": {},
   "outputs": [
    {
     "name": "stdout",
     "output_type": "stream",
     "text": [
      "Failed attempts for helios: 4\n",
      "Account for helios has been locked due to too many failed login attempts.\n",
      "Failed attempts reset for user helios.\n",
      "User helios's data updated.\n",
      "User helios logged in successfully.\n"
     ]
    }
   ],
   "source": [
    "auth_system.login(\"helios\", \"mysecurepassword\")"
   ]
  },
  {
   "cell_type": "code",
   "execution_count": null,
   "id": "af7bc16d",
   "metadata": {},
   "outputs": [
    {
     "name": "stdout",
     "output_type": "stream",
     "text": [
      "User neena registered successfully.\n",
      "User helios registered successfully.\n",
      "Failed attempts for neena: 1\n",
      "User neena's data updated.\n",
      "Incorrect password for neena.\n",
      "Failed attempts for neena: 2\n",
      "User neena's data updated.\n",
      "Incorrect password for neena.\n",
      "Failed attempts for neena: 3\n",
      "Account for neena has been locked due to too many failed login attempts.\n",
      "User neena's data updated.\n",
      "Incorrect password for neena.\n",
      "User Neena not found.\n",
      "Account for neena is locked. Please contact support.\n",
      "Account for neena is locked. Please contact support.\n",
      "Failed attempts for helios: 1\n",
      "User helios's data updated.\n",
      "Incorrect password for helios.\n",
      "Failed attempts reset for user helios.\n",
      "User helios's data updated.\n",
      "User helios logged in successfully.\n"
     ]
    }
   ],
   "source": [
    "import pandas as pd\n",
    "\n",
    "class User:\n",
    "\n",
    "    def __init__(self, user_id, username, password, failed_attempts=0, is_locked=False):\n",
    "        self.user_id = user_id\n",
    "        self.username = username\n",
    "        self.password = password\n",
    "        self.failed_attempts = failed_attempts\n",
    "        self.is_locked = is_locked\n",
    "\n",
    "\n",
    "    def reset_failed_attempts(self):\n",
    "        self.failed_attempts = 0\n",
    "        print(f\"Failed attempts reset for user {self.username}.\")\n",
    "\n",
    "\n",
    "    def increment_failed_attempts(self):\n",
    "        self.failed_attempts += 1\n",
    "        print(f\"Failed attempts for {self.username}: {self.failed_attempts}\")\n",
    "        if self.failed_attempts >= 3:\n",
    "            self.lock_account()\n",
    "\n",
    "\n",
    "    def lock_account(self):\n",
    "        self.is_locked = True\n",
    "        print(f\"Account for {self.username} has been locked due to too many failed login attempts.\")\n",
    "\n",
    "\n",
    "class AuthenticationSystem:\n",
    "\n",
    "    def __init__(self):\n",
    "        self.users = pd.DataFrame(columns=[\"user_id\", \"username\", \"password\", \"failed_attempts\", \"is_locked\"])\n",
    "\n",
    "\n",
    "    def register_user(self, user_id, username, password):\n",
    "        new_user = User(user_id, username, password)\n",
    "        \n",
    "        if new_user.username not in self.users['username'].values:\n",
    "            self.users = pd.concat([self.users, pd.DataFrame({\n",
    "                \"user_id\": [user_id], \n",
    "                \"username\": [username], \n",
    "                \"password\": [password], \n",
    "                \"failed_attempts\": [0], \n",
    "                \"is_locked\": [False]\n",
    "            })], ignore_index=True) # Add new user to DataFrame.\n",
    "            print(f\"User {username} registered successfully.\")\n",
    "        else:\n",
    "            print(f\"User {username} already exists. Registration failed.\")\n",
    "\n",
    "\n",
    "    # Never alter this login function\n",
    "    def login(self, username, password):\n",
    "        user_row = self.users[self.users['username'] == username]\n",
    "        if user_row.empty:\n",
    "            print(f\"User {username} not found.\")\n",
    "            return\n",
    "\n",
    "        user = User(user_row['user_id'].values[0], user_row['username'].values[0], user_row['password'].values[0], user_row['failed_attempts'].values[0], user_row['is_locked'].values[0])\n",
    "\n",
    "        if user.is_locked:\n",
    "            print(f\"Account for {username} is locked. Please contact support.\")\n",
    "            return\n",
    "\n",
    "        if password == user.password:\n",
    "            user.reset_failed_attempts()\n",
    "            self.update_user(user)\n",
    "            print(f\"User {username} logged in successfully.\")\n",
    "        else:\n",
    "            user.increment_failed_attempts()\n",
    "            self.update_user(user)\n",
    "            print(f\"Incorrect password for {username}.\")\n",
    "\n",
    "\n",
    "    def update_user(self, user):\n",
    "        self.users.loc[self.users['username'] == user.username, 'failed_attempts'] = user.failed_attempts\n",
    "        self.users.loc[self.users['username'] == user.username, 'is_locked'] = user.is_locked\n",
    "        print(f\"User {user.username}'s data updated.\")\n",
    "\n",
    "\n",
    "auth_system = AuthenticationSystem()\n",
    "auth_system.register_user(1, \"neena\", \"password123\") \n",
    "auth_system.register_user(2, \"helios\", \"mysecurepassword\")\n",
    "\n",
    "auth_system.login(\"neena\", \"password321\")  \n",
    "auth_system.login(\"Neena\", \"password123\")  \n",
    "auth_system.login(\"neena\", \"password321\")  \n",
    "auth_system.login(\"neena\", \"password123\")   \n",
    "\n",
    "auth_system.login(\"helios\", \"password321\")\n",
    "auth_system.login(\"helios\", \"mysecurepassword\")"
   ]
  },
  {
   "cell_type": "code",
   "execution_count": null,
   "id": "d5c0ee0a",
   "metadata": {},
   "outputs": [],
   "source": []
  },
  {
   "cell_type": "code",
   "execution_count": null,
   "id": "227d0e87",
   "metadata": {},
   "outputs": [],
   "source": []
  }
 ],
 "metadata": {
  "kernelspec": {
   "display_name": "data_analisys",
   "language": "python",
   "name": "python3"
  },
  "language_info": {
   "codemirror_mode": {
    "name": "ipython",
    "version": 3
   },
   "file_extension": ".py",
   "mimetype": "text/x-python",
   "name": "python",
   "nbconvert_exporter": "python",
   "pygments_lexer": "ipython3",
   "version": "3.10.13"
  }
 },
 "nbformat": 4,
 "nbformat_minor": 5
}
