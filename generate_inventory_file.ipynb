{
 "cells": [
  {
   "cell_type": "code",
   "execution_count": 1,
   "id": "fbc0f4e2",
   "metadata": {},
   "outputs": [],
   "source": [
    "import pandas as pd\n",
    "import mysql.connector\n",
    "from mysql.connector import Error\n",
    "import gerarJsonCsv\n",
    "import subprocess"
   ]
  },
  {
   "cell_type": "code",
   "execution_count": 2,
   "id": "d065e7d6",
   "metadata": {},
   "outputs": [],
   "source": [
    "planta = \"shopping-vitoria\"\n",
    "gateway_id = \"GW000059\""
   ]
  },
  {
   "cell_type": "code",
   "execution_count": 3,
   "id": "d72f9a56",
   "metadata": {},
   "outputs": [
    {
     "name": "stderr",
     "output_type": "stream",
     "text": [
      "/home/lucas/RepositorioProjetosCompletos/ansimble_update_gateways/gerarJsonCsv.py:19: UserWarning: pandas only supports SQLAlchemy connectable (engine/connection) or database string URI or sqlite3 DBAPI2 connection. Other DBAPI2 objects are not tested. Please consider using SQLAlchemy.\n",
      "  modulos_data = pd.read_sql(f\"\\\n",
      "/home/lucas/RepositorioProjetosCompletos/ansimble_update_gateways/gerarJsonCsv.py:21: UserWarning: pandas only supports SQLAlchemy connectable (engine/connection) or database string URI or sqlite3 DBAPI2 connection. Other DBAPI2 objects are not tested. Please consider using SQLAlchemy.\n",
      "  ativos_data = pd.read_sql(f\"\\\n"
     ]
    },
    {
     "name": "stdout",
     "output_type": "stream",
     "text": [
      "                  macaddress versao        aws_topic datetime_ultimo_envio  \\\n",
      "idModulo                                                                     \n",
      "U2N000149  80:65:99:c2:22:d4   3.00  U2N000149/dados   2025-09-25 15:55:19   \n",
      "U2N000150  80:65:99:c2:22:f4   3.00  U2N000150/dados   2025-09-25 15:52:00   \n",
      "U2N000151  80:65:99:c2:23:04   3.00  U2N000151/dados   2025-09-04 22:31:30   \n",
      "U2N000152  80:65:99:c2:22:c0   3.00  U2N000152/dados   2025-09-04 22:30:39   \n",
      "\n",
      "           TC_ratio Rog_ratio  corrente_l1  corrente_l2  corrente_l3  \\\n",
      "idModulo                                                               \n",
      "U2N000149     10000      None            0            1            2   \n",
      "U2N000150     10000      None            0            1            2   \n",
      "U2N000151     10000      None            0            1            2   \n",
      "U2N000152     10000      None            0            1            2   \n",
      "\n",
      "           tensao_l1  ...  sentido_tc2  sentido_tc3  instalado  Ativo  \\\n",
      "idModulo              ...                                               \n",
      "U2N000149          5  ...            1            1          1      1   \n",
      "U2N000150          5  ...            1            1          1      1   \n",
      "U2N000151          5  ...            1            1          1      1   \n",
      "U2N000152          5  ...            1            1          1      1   \n",
      "\n",
      "           Gateways_idGateway  Gateways_Plantas_idPlanta         acionamento  \\\n",
      "idModulo                                                                       \n",
      "U2N000149            GW000059           shopping-vitoria  ESTRELA/ TRIÂNGULO   \n",
      "U2N000150            GW000059           shopping-vitoria  ESTRELA/ TRIÂNGULO   \n",
      "U2N000151            GW000060           shopping-vitoria  ESTRELA/ TRIÂNGULO   \n",
      "U2N000152            GW000060           shopping-vitoria  ESTRELA/ TRIÂNGULO   \n",
      "\n",
      "           frequencia_nominal tensao_nominal corrente_nominal  \n",
      "idModulo                                                       \n",
      "U2N000149                  60          380.0            255.0  \n",
      "U2N000150                  60          380.0            170.0  \n",
      "U2N000151                  60          380.0            255.0  \n",
      "U2N000152                  60          380.0            170.0  \n",
      "\n",
      "[4 rows x 24 columns]\n"
     ]
    }
   ],
   "source": [
    "# gerar o arquivo de parametros\n",
    "gerarJsonCsv.generate_json_csv(planta)"
   ]
  },
  {
   "cell_type": "code",
   "execution_count": 4,
   "id": "0aa9c5f5",
   "metadata": {},
   "outputs": [],
   "source": [
    "mydb = mysql.connector.connect(\n",
    "    host=\"ultronline.cibxpi1gohmx.us-east-1.rds.amazonaws.com\",\n",
    "    user=\"root\",\n",
    "    password=\"2neuron2\",\n",
    "    database='projeto_ultron_teste'\n",
    ")\n",
    "mycursor = mydb.cursor()"
   ]
  },
  {
   "cell_type": "code",
   "execution_count": 5,
   "id": "ad5e404d",
   "metadata": {},
   "outputs": [
    {
     "name": "stderr",
     "output_type": "stream",
     "text": [
      "/tmp/ipykernel_87681/412794979.py:1: UserWarning: pandas only supports SQLAlchemy connectable (engine/connection) or database string URI or sqlite3 DBAPI2 connection. Other DBAPI2 objects are not tested. Please consider using SQLAlchemy.\n",
      "  gateways_data = pd.read_sql(f\"\\\n"
     ]
    }
   ],
   "source": [
    "gateways_data = pd.read_sql(f\"\\\n",
    "SELECT * FROM Gateways where Plantas_idPlanta='{planta}'\", mydb)"
   ]
  },
  {
   "cell_type": "code",
   "execution_count": 6,
   "id": "9e66c3f7",
   "metadata": {},
   "outputs": [
    {
     "data": {
      "text/html": [
       "<div>\n",
       "<style scoped>\n",
       "    .dataframe tbody tr th:only-of-type {\n",
       "        vertical-align: middle;\n",
       "    }\n",
       "\n",
       "    .dataframe tbody tr th {\n",
       "        vertical-align: top;\n",
       "    }\n",
       "\n",
       "    .dataframe thead th {\n",
       "        text-align: right;\n",
       "    }\n",
       "</style>\n",
       "<table border=\"1\" class=\"dataframe\">\n",
       "  <thead>\n",
       "    <tr style=\"text-align: right;\">\n",
       "      <th></th>\n",
       "      <th>idGateway</th>\n",
       "      <th>wifi_ssid</th>\n",
       "      <th>wifi_passkey</th>\n",
       "      <th>mqtt_ip</th>\n",
       "      <th>mqtt_user</th>\n",
       "      <th>mqtt_passkey</th>\n",
       "      <th>mqtt_port</th>\n",
       "      <th>cript_key</th>\n",
       "      <th>rasp_user</th>\n",
       "      <th>rasp_passkey</th>\n",
       "      <th>chip_numero</th>\n",
       "      <th>aws_thing</th>\n",
       "      <th>ipv6</th>\n",
       "      <th>macaddress</th>\n",
       "      <th>key_credenciais</th>\n",
       "      <th>Plantas_idPlanta</th>\n",
       "      <th>Real_vnc_login</th>\n",
       "    </tr>\n",
       "  </thead>\n",
       "  <tbody>\n",
       "    <tr>\n",
       "      <th>0</th>\n",
       "      <td>GW000059</td>\n",
       "      <td>GW000059</td>\n",
       "      <td>g94onof5</td>\n",
       "      <td>10.42.0.1</td>\n",
       "      <td>GW000059</td>\n",
       "      <td>fZZDCkur</td>\n",
       "      <td>1883</td>\n",
       "      <td>RAInPFAdEmwHzaWl</td>\n",
       "      <td>gateway</td>\n",
       "      <td>iViNSXYC</td>\n",
       "      <td>+5527998472751</td>\n",
       "      <td>GW000059</td>\n",
       "      <td>2804:18:5081:b4f:29b3:d995:9c6e:f3d5</td>\n",
       "      <td>2c:cf:67:3c:1b:30</td>\n",
       "      <td>None</td>\n",
       "      <td>shopping-vitoria</td>\n",
       "      <td>nao@tem</td>\n",
       "    </tr>\n",
       "    <tr>\n",
       "      <th>1</th>\n",
       "      <td>GW000060</td>\n",
       "      <td>GW000060</td>\n",
       "      <td>fQiWrl2R</td>\n",
       "      <td>10.42.0.1</td>\n",
       "      <td>GW000060</td>\n",
       "      <td>k7NU7tEp</td>\n",
       "      <td>1883</td>\n",
       "      <td>KE7ewM8T4eWemkYy</td>\n",
       "      <td>gateway</td>\n",
       "      <td>T9yzPmGh</td>\n",
       "      <td>+5527995893913</td>\n",
       "      <td>GW000060</td>\n",
       "      <td>2804:18:5080:f050:3d7c:5a33:9eb7:2cd</td>\n",
       "      <td>d8:3a:dd:c6:90:9e</td>\n",
       "      <td>None</td>\n",
       "      <td>shopping-vitoria</td>\n",
       "      <td>nao@tem</td>\n",
       "    </tr>\n",
       "  </tbody>\n",
       "</table>\n",
       "</div>"
      ],
      "text/plain": [
       "  idGateway wifi_ssid wifi_passkey    mqtt_ip mqtt_user mqtt_passkey  \\\n",
       "0  GW000059  GW000059     g94onof5  10.42.0.1  GW000059     fZZDCkur   \n",
       "1  GW000060  GW000060     fQiWrl2R  10.42.0.1  GW000060     k7NU7tEp   \n",
       "\n",
       "   mqtt_port         cript_key rasp_user rasp_passkey     chip_numero  \\\n",
       "0       1883  RAInPFAdEmwHzaWl   gateway     iViNSXYC  +5527998472751   \n",
       "1       1883  KE7ewM8T4eWemkYy   gateway     T9yzPmGh  +5527995893913   \n",
       "\n",
       "  aws_thing                                  ipv6         macaddress  \\\n",
       "0  GW000059  2804:18:5081:b4f:29b3:d995:9c6e:f3d5  2c:cf:67:3c:1b:30   \n",
       "1  GW000060  2804:18:5080:f050:3d7c:5a33:9eb7:2cd  d8:3a:dd:c6:90:9e   \n",
       "\n",
       "  key_credenciais  Plantas_idPlanta Real_vnc_login  \n",
       "0            None  shopping-vitoria        nao@tem  \n",
       "1            None  shopping-vitoria        nao@tem  "
      ]
     },
     "execution_count": 6,
     "metadata": {},
     "output_type": "execute_result"
    }
   ],
   "source": [
    "gateways_data"
   ]
  },
  {
   "cell_type": "code",
   "execution_count": 7,
   "id": "e59ef76b",
   "metadata": {},
   "outputs": [],
   "source": [
    "row = gateways_data[gateways_data['idGateway'] == gateway_id]\n",
    "ipv6 = row[\"ipv6\"].values[0]\n",
    "rasp_passkey = row[\"rasp_passkey\"].values[0]"
   ]
  },
  {
   "cell_type": "code",
   "execution_count": 8,
   "id": "21860cac",
   "metadata": {},
   "outputs": [
    {
     "name": "stdout",
     "output_type": "stream",
     "text": [
      "2804:18:5081:b4f:29b3:d995:9c6e:f3d5\n"
     ]
    }
   ],
   "source": [
    "print(ipv6)"
   ]
  },
  {
   "cell_type": "code",
   "execution_count": 9,
   "id": "dd1ffba7",
   "metadata": {},
   "outputs": [],
   "source": [
    "result = subprocess.run(\n",
    "            [\n",
    "                \"ssh-keyscan\", \"-p\", \"30022\",\n",
    "                \"-H\", ipv6, \">>\", \"~/.ssh/known_hosts\"], capture_output=True, text=True, check=True\n",
    "        )"
   ]
  },
  {
   "cell_type": "code",
   "execution_count": 10,
   "id": "217ed87f",
   "metadata": {},
   "outputs": [
    {
     "data": {
      "text/plain": [
       "CompletedProcess(args=['ssh-keyscan', '-p', '30022', '-H', '2804:18:5081:b4f:29b3:d995:9c6e:f3d5', '>>', '~/.ssh/known_hosts'], returncode=0, stdout='|1|K6rPUxubaedF21jKb739ORjo7b4=|y8i5+xVZ9QbzJ8qZPHh0D5jrUrc= ssh-rsa AAAAB3NzaC1yc2EAAAADAQABAAABgQC2JfmYoQOvo5OSw/L6F3dCr+87wWo4zNGaVWCHXNswgFi50uJt3oWRVPi6LiOBFpC5jbsJjd8JboTnSuKlwc/Aggg4eZNpK+U+xgiEktoL4rqAo1o4Wxq7Jt6mTiXdApvU2pMTMPkpOxI6nGgE+hqTyIDsMc9t3ieTUR1qMEoayO9GA8Ok4YHt2Uq/lbUf7dfPP+Gjq4SVujp9nNjNZDsVfTERKYORODixb7rUiQzUYcxgMXo8f8bCmll9u41IXZ2ZBKMjIEgFKy9MAGTMS9NqwsvMM8kaHodlwTcD4JfhexcXHnTzj5aX/0WbFaXbk5RXqUGIpZqevUJTv0mmmn3K376Lzjvoh5dlyALZ4KcSU/7TLmtNpMGNNFHDxmbpghKCdIjt6ftXb1Ke9cCjRu6yrJINPVlOMEXz6btdwsrwW+GyGAZT481NzXO2G+gAXNyCbD1ETxlJgTyxArKEQOtm9hiL1vkHRVy+Wul08/GIkLNLagN+SMRho7EcFBLlp1M=\\n|1|xh8IFjwKvPTG0kXT+pc21Fe8azU=|acDi099pOvn/3i/5fzq/ovchxvM= ecdsa-sha2-nistp256 AAAAE2VjZHNhLXNoYTItbmlzdHAyNTYAAAAIbmlzdHAyNTYAAABBBDqgWjHL9m/frtGGWqum2UH4qVZIhhzDNxZSPJOXCByEpNtPVJ0RMH6pL3+lukpYjPT0e/iqjwDBQf3fOWZHYfc=\\n|1|/0q7lSTzKd2HpixREAstlDHVhF0=|heWxg2dwDcC+nI6rWKneH/HLmcQ= ssh-ed25519 AAAAC3NzaC1lZDI1NTE5AAAAIFC+fcVWBuBxUA3rv3Dsf1t5CNCTlJzVYRi5NKu7HWzd\\n', stderr='getaddrinfo >>: Name or service not known\\ngetaddrinfo >>: Name or service not known\\ngetaddrinfo >>: Name or service not known\\ngetaddrinfo >>: Name or service not known\\ngetaddrinfo >>: Name or service not known\\ngetaddrinfo ~/.ssh/known_hosts: Name or service not known\\ngetaddrinfo ~/.ssh/known_hosts: Name or service not known\\ngetaddrinfo ~/.ssh/known_hosts: Name or service not known\\ngetaddrinfo ~/.ssh/known_hosts: Name or service not known\\ngetaddrinfo ~/.ssh/known_hosts: Name or service not known\\n# 2804:18:5081:b4f:29b3:d995:9c6e:f3d5:30022 SSH-2.0-OpenSSH_9.2p1 Debian-2+deb12u2\\n# 2804:18:5081:b4f:29b3:d995:9c6e:f3d5:30022 SSH-2.0-OpenSSH_9.2p1 Debian-2+deb12u2\\n# 2804:18:5081:b4f:29b3:d995:9c6e:f3d5:30022 SSH-2.0-OpenSSH_9.2p1 Debian-2+deb12u2\\n# 2804:18:5081:b4f:29b3:d995:9c6e:f3d5:30022 SSH-2.0-OpenSSH_9.2p1 Debian-2+deb12u2\\n# 2804:18:5081:b4f:29b3:d995:9c6e:f3d5:30022 SSH-2.0-OpenSSH_9.2p1 Debian-2+deb12u2\\n')"
      ]
     },
     "execution_count": 10,
     "metadata": {},
     "output_type": "execute_result"
    }
   ],
   "source": [
    "result"
   ]
  },
  {
   "cell_type": "code",
   "execution_count": 11,
   "id": "73f05ee5",
   "metadata": {},
   "outputs": [],
   "source": [
    "file_text = f\"[myhosts]\\n\\\n",
    "servidor1 ansible_host={ipv6} ansible_port=30022 ansible_user=gateway ansible_ssh_pass={rasp_passkey} \\\n",
    "ansible_become_pass={rasp_passkey} ansible_ssh_common_args='-6'\""
   ]
  },
  {
   "cell_type": "code",
   "execution_count": 12,
   "id": "fd9b0486",
   "metadata": {},
   "outputs": [],
   "source": [
    "with open(f\"inventory-{planta}.ini\", \"w\") as f:\n",
    "    f.write(file_text)"
   ]
  },
  {
   "cell_type": "code",
   "execution_count": 13,
   "id": "80086af8",
   "metadata": {},
   "outputs": [],
   "source": [
    "# escrever o playbook\n",
    "playbook_text = f\"\"\"\\\n",
    "---\n",
    "- name: move files\n",
    "  hosts: myhosts\n",
    "  become: true  # se precisar de sudo\n",
    "  tasks:\n",
    "  - name: Move ultronline.py\n",
    "    ansible.builtin.copy:\n",
    "      src: /home/lucas/Servidores/server_v4/Server/ultronline.py\n",
    "      dest: /home/gateway/Servidores/server_v4/Server/ultronline.py\n",
    "      owner: root\n",
    "      group: root\n",
    "      mode: '0644'\n",
    "  \n",
    "  - name: Move servidor_main.py\n",
    "    ansible.builtin.copy:\n",
    "      src: /home/lucas/Servidores/server_v4/Server/servidor_main.py\n",
    "      dest: /home/gateway/Servidores/server_v4/Server/servidor_main.py\n",
    "      owner: root\n",
    "      group: root\n",
    "      mode: '0644'\n",
    "  \n",
    "  - name: Move energy_analysis.py\n",
    "    ansible.builtin.copy:\n",
    "      src: /home/lucas/Servidores/server_v4/Server/energy_analysis.py\n",
    "      dest: /home/gateway/Servidores/server_v4/Server/energy_analysis.py\n",
    "      owner: root\n",
    "      group: root\n",
    "      mode: '0644'\n",
    "  \n",
    "  - name: Move parametros_ultronline.json\n",
    "    ansible.builtin.copy:\n",
    "      src: /home/lucas/RepositorioProjetosCompletos/ansimble_update_gateways/\\\n",
    "parametros_ultronline_{planta}.json\n",
    "      dest: /home/gateway/Servidores/server_v4/Server/parametros_ultronline.json\n",
    "      owner: root\n",
    "      group: root\n",
    "      mode: '0644'\n",
    "  \n",
    "  - name: Reiniciar ultronlink_server\n",
    "    ansible.builtin.service:\n",
    "      name: ultronlink_server\n",
    "      state: restarted\n",
    "\"\"\""
   ]
  },
  {
   "cell_type": "code",
   "execution_count": 14,
   "id": "3e4b5a09",
   "metadata": {},
   "outputs": [],
   "source": [
    "with open(f\"playbook-{planta}.yml\", \"w\") as f:\n",
    "    f.write(playbook_text)"
   ]
  },
  {
   "cell_type": "code",
   "execution_count": 15,
   "id": "32917a52",
   "metadata": {},
   "outputs": [],
   "source": [
    "mycursor.close()\n",
    "mydb.close()"
   ]
  },
  {
   "cell_type": "code",
   "execution_count": null,
   "id": "c991cf40",
   "metadata": {},
   "outputs": [],
   "source": []
  }
 ],
 "metadata": {
  "kernelspec": {
   "display_name": "data_analisys",
   "language": "python",
   "name": "python3"
  },
  "language_info": {
   "codemirror_mode": {
    "name": "ipython",
    "version": 3
   },
   "file_extension": ".py",
   "mimetype": "text/x-python",
   "name": "python",
   "nbconvert_exporter": "python",
   "pygments_lexer": "ipython3",
   "version": "3.10.18"
  }
 },
 "nbformat": 4,
 "nbformat_minor": 5
}
